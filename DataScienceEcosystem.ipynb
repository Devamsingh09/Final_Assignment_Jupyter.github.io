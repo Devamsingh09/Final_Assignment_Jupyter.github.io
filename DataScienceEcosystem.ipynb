{
 "cells": [
  {
   "cell_type": "markdown",
   "id": "789a1a1e-8315-4ec3-a6d0-be23e0817aba",
   "metadata": {},
   "source": [
    "# Data Science Tools and Ecosystem"
   ]
  },
  {
   "cell_type": "markdown",
   "id": "02fb7021-5ded-470e-a2d5-93a05abcf730",
   "metadata": {
    "tags": []
   },
   "source": [
    "### In this notebook, Data Science Tools and Ecosystem are summarized."
   ]
  },
  {
   "cell_type": "markdown",
   "id": "cbe39603-e1c3-469d-9877-7c12484b67b1",
   "metadata": {},
   "source": [
    "**Objectives:**\n",
    "\n",
    "* List popular languages for Data Science.\n",
    "* Explore common open source tools in Data Science.\n",
    "* Understand basic arithmetic operations in Python.\n",
    "* Learn how to create Markdown cells in Jupyter.\n",
    "* Practice creating tables and lists in Markdown.\n"
   ]
  },
  {
   "cell_type": "markdown",
   "id": "93a3b107-fcb0-4d65-8c7b-c6acae9a033e",
   "metadata": {},
   "source": [
    "### Some of the popular languages that Data Scientists use are:"
   ]
  },
  {
   "cell_type": "markdown",
   "id": "fe3fe422-8f1b-458b-840f-b9ed112dbef4",
   "metadata": {},
   "source": [
    "1. Python\n",
    "2. Julia\n",
    "3. JAVA\n",
    "4. R"
   ]
  },
  {
   "cell_type": "markdown",
   "id": "096aab8b-2607-4658-9549-ba637ed26e01",
   "metadata": {},
   "source": [
    "| Data Science Tools |\n",
    "| ------------------ |\n",
    "| Github       |\n",
    "| Jupter Notebook  |\n",
    "| Rstudio       |"
   ]
  },
  {
   "cell_type": "markdown",
   "id": "26fd3b99-5403-4988-9c92-a46c174f846f",
   "metadata": {},
   "source": [
    "### Below are a few examples of evaluating arithmetic expressions in Python\n"
   ]
  },
  {
   "cell_type": "code",
   "execution_count": 2,
   "id": "97a800ff-090c-4a2d-b024-e4ab7e58a125",
   "metadata": {
    "tags": []
   },
   "outputs": [
    {
     "name": "stdout",
     "output_type": "stream",
     "text": [
      "17\n"
     ]
    }
   ],
   "source": [
    "# This is a simple arithmetic expression to multiply 3 by 4 and then add 5.\n",
    "result = (3 * 4) + 5\n",
    "print(result)\n",
    "\n"
   ]
  },
  {
   "cell_type": "code",
   "execution_count": 3,
   "id": "5395a274-7143-44ae-994a-31bb0e7243ae",
   "metadata": {
    "tags": []
   },
   "outputs": [
    {
     "name": "stdout",
     "output_type": "stream",
     "text": [
      "3.3333333333333335\n"
     ]
    }
   ],
   "source": [
    "# This will convert 200 minutes to hours by dividng by 60\n",
    "hours = 200/60\n",
    "print(hours)"
   ]
  },
  {
   "cell_type": "markdown",
   "id": "01a58242-2ea5-47de-aae1-d940aa2577e4",
   "metadata": {},
   "source": [
    "## Author\n",
    "Devam Singh"
   ]
  },
  {
   "cell_type": "code",
   "execution_count": null,
   "id": "01bf8c36-a489-4640-81f0-040a6c3fffcd",
   "metadata": {},
   "outputs": [],
   "source": []
  }
 ],
 "metadata": {
  "kernelspec": {
   "display_name": "Python",
   "language": "python",
   "name": "conda-env-python-py"
  },
  "language_info": {
   "codemirror_mode": {
    "name": "ipython",
    "version": 3
   },
   "file_extension": ".py",
   "mimetype": "text/x-python",
   "name": "python",
   "nbconvert_exporter": "python",
   "pygments_lexer": "ipython3",
   "version": "3.7.12"
  }
 },
 "nbformat": 4,
 "nbformat_minor": 5
}
